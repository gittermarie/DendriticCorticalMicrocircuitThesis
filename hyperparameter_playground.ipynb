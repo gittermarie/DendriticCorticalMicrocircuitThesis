{
 "cells": [
  {
   "cell_type": "code",
   "execution_count": null,
   "metadata": {
    "vscode": {
     "languageId": "plaintext"
    }
   },
   "outputs": [],
   "source": [
    "import wandb\n",
    "import random\n",
    "import math\n",
    "wandb.require(\"core\")\n",
    "wandb.login()\n"
   ]
  },
  {
   "cell_type": "code",
   "execution_count": null,
   "metadata": {
    "vscode": {
     "languageId": "plaintext"
    }
   },
   "outputs": [],
   "source": [
    "total_runs = 5\n",
    "for run in range(total_runs):\n",
    "    wandb.init(\n",
    "        project = \"hyperprameter test\",\n",
    "        name=f\"experiment_{run}\"\n",
    "        config={\n",
    "            \"architecture\": \"\n",
    "        } \n",
    "    )"
   ]
  }
 ],
 "metadata": {
  "language_info": {
   "name": "python"
  }
 },
 "nbformat": 4,
 "nbformat_minor": 2
}
